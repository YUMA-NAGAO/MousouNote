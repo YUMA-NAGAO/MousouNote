{
  "nbformat": 4,
  "nbformat_minor": 0,
  "metadata": {
    "colab": {
      "name": "LearningKeras",
      "provenance": [],
      "authorship_tag": "ABX9TyPtDIJoZMpQiK3n8AI61LyB",
      "include_colab_link": true
    },
    "kernelspec": {
      "name": "python3",
      "display_name": "Python 3"
    },
    "accelerator": "GPU"
  },
  "cells": [
    {
      "cell_type": "markdown",
      "metadata": {
        "id": "view-in-github",
        "colab_type": "text"
      },
      "source": [
        "<a href=\"https://colab.research.google.com/github/YUMA-NAGAO/Portfolio_1st_Year/blob/master/LearningKeras.ipynb\" target=\"_parent\"><img src=\"https://colab.research.google.com/assets/colab-badge.svg\" alt=\"Open In Colab\"/></a>"
      ]
    },
    {
      "cell_type": "code",
      "metadata": {
        "id": "6jb7R3TFODHV",
        "colab_type": "code",
        "colab": {}
      },
      "source": [
        ""
      ],
      "execution_count": 0,
      "outputs": []
    },
    {
      "cell_type": "markdown",
      "metadata": {
        "id": "77gv3l41OFiW",
        "colab_type": "text"
      },
      "source": [
        "# 新しいセクション"
      ]
    },
    {
      "cell_type": "code",
      "metadata": {
        "id": "Fq5ueHTGOGnm",
        "colab_type": "code",
        "outputId": "78ba335a-1bdc-45fc-ea8a-4d250094cb7e",
        "colab": {
          "base_uri": "https://localhost:8080/",
          "height": 1000
        }
      },
      "source": [
        "from keras.models import Sequential\n",
        "from keras.layers import Dense, Activation\n",
        "\n",
        "model = Sequential()\n",
        "model.add(Dense(32, activation='relu', input_dim=100))\n",
        "model.add(Dense(2, activation='sigmoid'))\n",
        "model.compile(optimizer='rmsprop',\n",
        "              loss='binary_crossentropy',\n",
        "              metrics=['accuracy'])\n",
        "\n",
        "# ダミーデータ\n",
        "import numpy as np\n",
        "data = np.random.random((1000, 100))\n",
        "labels = np.random.randint(2, size=(1000, 2))\n",
        "\n",
        "# モデルの学習。32サンプルずつ取り出して学習する\n",
        "# サンプル数(batch_size)が増えれば増えるほど、高速に学習が終わるが学習がうまく進まない可能性がある\n",
        "history = model.fit(data, labels, epochs=100, batch_size=32)\n",
        "\n",
        "# 乱数を入力にして予測をさせる\n",
        "model.predict(np.random.random((1, 100)))\n",
        "# 出力例:\n",
        "# array([[0.48207587]], dtype=float32)"
      ],
      "execution_count": 0,
      "outputs": [
        {
          "output_type": "stream",
          "text": [
            "Epoch 1/100\n",
            "1000/1000 [==============================] - 0s 373us/step - loss: 0.7025 - acc: 0.5005\n",
            "Epoch 2/100\n",
            "1000/1000 [==============================] - 0s 132us/step - loss: 0.6943 - acc: 0.5215\n",
            "Epoch 3/100\n",
            "1000/1000 [==============================] - 0s 126us/step - loss: 0.6905 - acc: 0.5425\n",
            "Epoch 4/100\n",
            "1000/1000 [==============================] - 0s 120us/step - loss: 0.6855 - acc: 0.5665\n",
            "Epoch 5/100\n",
            "1000/1000 [==============================] - 0s 127us/step - loss: 0.6843 - acc: 0.5600\n",
            "Epoch 6/100\n",
            "1000/1000 [==============================] - 0s 127us/step - loss: 0.6809 - acc: 0.5605\n",
            "Epoch 7/100\n",
            "1000/1000 [==============================] - 0s 136us/step - loss: 0.6780 - acc: 0.5750\n",
            "Epoch 8/100\n",
            "1000/1000 [==============================] - 0s 125us/step - loss: 0.6750 - acc: 0.5830\n",
            "Epoch 9/100\n",
            "1000/1000 [==============================] - 0s 119us/step - loss: 0.6715 - acc: 0.5885\n",
            "Epoch 10/100\n",
            "1000/1000 [==============================] - 0s 125us/step - loss: 0.6693 - acc: 0.5905\n",
            "Epoch 11/100\n",
            "1000/1000 [==============================] - 0s 127us/step - loss: 0.6669 - acc: 0.6105\n",
            "Epoch 12/100\n",
            "1000/1000 [==============================] - 0s 116us/step - loss: 0.6637 - acc: 0.6025\n",
            "Epoch 13/100\n",
            "1000/1000 [==============================] - 0s 118us/step - loss: 0.6613 - acc: 0.5980\n",
            "Epoch 14/100\n",
            "1000/1000 [==============================] - 0s 151us/step - loss: 0.6586 - acc: 0.6180\n",
            "Epoch 15/100\n",
            "1000/1000 [==============================] - 0s 121us/step - loss: 0.6541 - acc: 0.6205\n",
            "Epoch 16/100\n",
            "1000/1000 [==============================] - 0s 117us/step - loss: 0.6525 - acc: 0.6205\n",
            "Epoch 17/100\n",
            "1000/1000 [==============================] - 0s 128us/step - loss: 0.6498 - acc: 0.6310\n",
            "Epoch 18/100\n",
            "1000/1000 [==============================] - 0s 120us/step - loss: 0.6475 - acc: 0.6350\n",
            "Epoch 19/100\n",
            "1000/1000 [==============================] - 0s 120us/step - loss: 0.6433 - acc: 0.6395\n",
            "Epoch 20/100\n",
            "1000/1000 [==============================] - 0s 119us/step - loss: 0.6415 - acc: 0.6305\n",
            "Epoch 21/100\n",
            "1000/1000 [==============================] - 0s 123us/step - loss: 0.6397 - acc: 0.6395\n",
            "Epoch 22/100\n",
            "1000/1000 [==============================] - 0s 123us/step - loss: 0.6362 - acc: 0.6395\n",
            "Epoch 23/100\n",
            "1000/1000 [==============================] - 0s 128us/step - loss: 0.6338 - acc: 0.6510\n",
            "Epoch 24/100\n",
            "1000/1000 [==============================] - 0s 124us/step - loss: 0.6308 - acc: 0.6665\n",
            "Epoch 25/100\n",
            "1000/1000 [==============================] - 0s 131us/step - loss: 0.6294 - acc: 0.6590\n",
            "Epoch 26/100\n",
            "1000/1000 [==============================] - 0s 121us/step - loss: 0.6259 - acc: 0.6610\n",
            "Epoch 27/100\n",
            "1000/1000 [==============================] - 0s 131us/step - loss: 0.6227 - acc: 0.6645\n",
            "Epoch 28/100\n",
            "1000/1000 [==============================] - 0s 117us/step - loss: 0.6206 - acc: 0.6550\n",
            "Epoch 29/100\n",
            "1000/1000 [==============================] - 0s 114us/step - loss: 0.6176 - acc: 0.6680\n",
            "Epoch 30/100\n",
            "1000/1000 [==============================] - 0s 110us/step - loss: 0.6160 - acc: 0.6725\n",
            "Epoch 31/100\n",
            "1000/1000 [==============================] - 0s 150us/step - loss: 0.6126 - acc: 0.6835\n",
            "Epoch 32/100\n",
            "1000/1000 [==============================] - 0s 123us/step - loss: 0.6097 - acc: 0.6775\n",
            "Epoch 33/100\n",
            "1000/1000 [==============================] - 0s 140us/step - loss: 0.6060 - acc: 0.6890\n",
            "Epoch 34/100\n",
            "1000/1000 [==============================] - 0s 118us/step - loss: 0.6031 - acc: 0.6925\n",
            "Epoch 35/100\n",
            "1000/1000 [==============================] - 0s 117us/step - loss: 0.6008 - acc: 0.6915\n",
            "Epoch 36/100\n",
            "1000/1000 [==============================] - 0s 116us/step - loss: 0.5995 - acc: 0.6885\n",
            "Epoch 37/100\n",
            "1000/1000 [==============================] - 0s 129us/step - loss: 0.5967 - acc: 0.6970\n",
            "Epoch 38/100\n",
            "1000/1000 [==============================] - 0s 118us/step - loss: 0.5919 - acc: 0.7015\n",
            "Epoch 39/100\n",
            "1000/1000 [==============================] - 0s 140us/step - loss: 0.5900 - acc: 0.7015\n",
            "Epoch 40/100\n",
            "1000/1000 [==============================] - 0s 119us/step - loss: 0.5870 - acc: 0.7125\n",
            "Epoch 41/100\n",
            "1000/1000 [==============================] - 0s 126us/step - loss: 0.5845 - acc: 0.7075\n",
            "Epoch 42/100\n",
            "1000/1000 [==============================] - 0s 112us/step - loss: 0.5833 - acc: 0.7090\n",
            "Epoch 43/100\n",
            "1000/1000 [==============================] - 0s 115us/step - loss: 0.5792 - acc: 0.7160\n",
            "Epoch 44/100\n",
            "1000/1000 [==============================] - 0s 144us/step - loss: 0.5761 - acc: 0.7185\n",
            "Epoch 45/100\n",
            "1000/1000 [==============================] - 0s 124us/step - loss: 0.5736 - acc: 0.7280\n",
            "Epoch 46/100\n",
            "1000/1000 [==============================] - 0s 119us/step - loss: 0.5716 - acc: 0.7195\n",
            "Epoch 47/100\n",
            "1000/1000 [==============================] - 0s 127us/step - loss: 0.5649 - acc: 0.7250\n",
            "Epoch 48/100\n",
            "1000/1000 [==============================] - 0s 127us/step - loss: 0.5645 - acc: 0.7360\n",
            "Epoch 49/100\n",
            "1000/1000 [==============================] - 0s 135us/step - loss: 0.5623 - acc: 0.7370\n",
            "Epoch 50/100\n",
            "1000/1000 [==============================] - 0s 117us/step - loss: 0.5604 - acc: 0.7380\n",
            "Epoch 51/100\n",
            "1000/1000 [==============================] - 0s 121us/step - loss: 0.5584 - acc: 0.7300\n",
            "Epoch 52/100\n",
            "1000/1000 [==============================] - 0s 117us/step - loss: 0.5520 - acc: 0.7480\n",
            "Epoch 53/100\n",
            "1000/1000 [==============================] - 0s 115us/step - loss: 0.5497 - acc: 0.7520\n",
            "Epoch 54/100\n",
            "1000/1000 [==============================] - 0s 116us/step - loss: 0.5473 - acc: 0.7580\n",
            "Epoch 55/100\n",
            "1000/1000 [==============================] - 0s 126us/step - loss: 0.5451 - acc: 0.7510\n",
            "Epoch 56/100\n",
            "1000/1000 [==============================] - 0s 127us/step - loss: 0.5409 - acc: 0.7570\n",
            "Epoch 57/100\n",
            "1000/1000 [==============================] - 0s 129us/step - loss: 0.5390 - acc: 0.7660\n",
            "Epoch 58/100\n",
            "1000/1000 [==============================] - 0s 116us/step - loss: 0.5350 - acc: 0.7750\n",
            "Epoch 59/100\n",
            "1000/1000 [==============================] - 0s 117us/step - loss: 0.5315 - acc: 0.7650\n",
            "Epoch 60/100\n",
            "1000/1000 [==============================] - 0s 121us/step - loss: 0.5290 - acc: 0.7720\n",
            "Epoch 61/100\n",
            "1000/1000 [==============================] - 0s 116us/step - loss: 0.5265 - acc: 0.7700\n",
            "Epoch 62/100\n",
            "1000/1000 [==============================] - 0s 125us/step - loss: 0.5235 - acc: 0.7720\n",
            "Epoch 63/100\n",
            "1000/1000 [==============================] - 0s 125us/step - loss: 0.5186 - acc: 0.7750\n",
            "Epoch 64/100\n",
            "1000/1000 [==============================] - 0s 130us/step - loss: 0.5159 - acc: 0.7750\n",
            "Epoch 65/100\n",
            "1000/1000 [==============================] - 0s 115us/step - loss: 0.5139 - acc: 0.7775\n",
            "Epoch 66/100\n",
            "1000/1000 [==============================] - 0s 120us/step - loss: 0.5099 - acc: 0.7785\n",
            "Epoch 67/100\n",
            "1000/1000 [==============================] - 0s 115us/step - loss: 0.5081 - acc: 0.7795\n",
            "Epoch 68/100\n",
            "1000/1000 [==============================] - 0s 123us/step - loss: 0.5045 - acc: 0.7820\n",
            "Epoch 69/100\n",
            "1000/1000 [==============================] - 0s 121us/step - loss: 0.5012 - acc: 0.7865\n",
            "Epoch 70/100\n",
            "1000/1000 [==============================] - 0s 123us/step - loss: 0.4984 - acc: 0.7890\n",
            "Epoch 71/100\n",
            "1000/1000 [==============================] - 0s 124us/step - loss: 0.4935 - acc: 0.7945\n",
            "Epoch 72/100\n",
            "1000/1000 [==============================] - 0s 128us/step - loss: 0.4941 - acc: 0.7925\n",
            "Epoch 73/100\n",
            "1000/1000 [==============================] - 0s 134us/step - loss: 0.4872 - acc: 0.8055\n",
            "Epoch 74/100\n",
            "1000/1000 [==============================] - 0s 106us/step - loss: 0.4847 - acc: 0.8040\n",
            "Epoch 75/100\n",
            "1000/1000 [==============================] - 0s 127us/step - loss: 0.4854 - acc: 0.8045\n",
            "Epoch 76/100\n",
            "1000/1000 [==============================] - 0s 118us/step - loss: 0.4786 - acc: 0.8085\n",
            "Epoch 77/100\n",
            "1000/1000 [==============================] - 0s 130us/step - loss: 0.4751 - acc: 0.8130\n",
            "Epoch 78/100\n",
            "1000/1000 [==============================] - 0s 126us/step - loss: 0.4740 - acc: 0.8095\n",
            "Epoch 79/100\n",
            "1000/1000 [==============================] - 0s 119us/step - loss: 0.4705 - acc: 0.8135\n",
            "Epoch 80/100\n",
            "1000/1000 [==============================] - 0s 135us/step - loss: 0.4672 - acc: 0.8135\n",
            "Epoch 81/100\n",
            "1000/1000 [==============================] - 0s 121us/step - loss: 0.4625 - acc: 0.8155\n",
            "Epoch 82/100\n",
            "1000/1000 [==============================] - 0s 122us/step - loss: 0.4595 - acc: 0.8170\n",
            "Epoch 83/100\n",
            "1000/1000 [==============================] - 0s 129us/step - loss: 0.4595 - acc: 0.8165\n",
            "Epoch 84/100\n",
            "1000/1000 [==============================] - 0s 125us/step - loss: 0.4554 - acc: 0.8260\n",
            "Epoch 85/100\n",
            "1000/1000 [==============================] - 0s 123us/step - loss: 0.4542 - acc: 0.8240\n",
            "Epoch 86/100\n",
            "1000/1000 [==============================] - 0s 122us/step - loss: 0.4478 - acc: 0.8280\n",
            "Epoch 87/100\n",
            "1000/1000 [==============================] - 0s 126us/step - loss: 0.4440 - acc: 0.8300\n",
            "Epoch 88/100\n",
            "1000/1000 [==============================] - 0s 151us/step - loss: 0.4452 - acc: 0.8270\n",
            "Epoch 89/100\n",
            "1000/1000 [==============================] - 0s 119us/step - loss: 0.4389 - acc: 0.8315\n",
            "Epoch 90/100\n",
            "1000/1000 [==============================] - 0s 128us/step - loss: 0.4359 - acc: 0.8310\n",
            "Epoch 91/100\n",
            "1000/1000 [==============================] - 0s 122us/step - loss: 0.4335 - acc: 0.8260\n",
            "Epoch 92/100\n",
            "1000/1000 [==============================] - 0s 128us/step - loss: 0.4333 - acc: 0.8290\n",
            "Epoch 93/100\n",
            "1000/1000 [==============================] - 0s 121us/step - loss: 0.4272 - acc: 0.8455\n",
            "Epoch 94/100\n",
            "1000/1000 [==============================] - 0s 127us/step - loss: 0.4262 - acc: 0.8410\n",
            "Epoch 95/100\n",
            "1000/1000 [==============================] - 0s 118us/step - loss: 0.4209 - acc: 0.8465\n",
            "Epoch 96/100\n",
            "1000/1000 [==============================] - 0s 143us/step - loss: 0.4179 - acc: 0.8500\n",
            "Epoch 97/100\n",
            "1000/1000 [==============================] - 0s 127us/step - loss: 0.4170 - acc: 0.8460\n",
            "Epoch 98/100\n",
            "1000/1000 [==============================] - 0s 109us/step - loss: 0.4156 - acc: 0.8560\n",
            "Epoch 99/100\n",
            "1000/1000 [==============================] - 0s 125us/step - loss: 0.4084 - acc: 0.8545\n",
            "Epoch 100/100\n",
            "1000/1000 [==============================] - 0s 120us/step - loss: 0.4074 - acc: 0.8535\n"
          ],
          "name": "stdout"
        },
        {
          "output_type": "execute_result",
          "data": {
            "text/plain": [
              "array([[0.68405855, 0.28261983]], dtype=float32)"
            ]
          },
          "metadata": {
            "tags": []
          },
          "execution_count": 5
        }
      ]
    },
    {
      "cell_type": "code",
      "metadata": {
        "id": "fCrumMBwOMt9",
        "colab_type": "code",
        "outputId": "c38af6ee-2b85-4a1d-b4f5-8ca1bda84daa",
        "colab": {
          "base_uri": "https://localhost:8080/",
          "height": 279
        }
      },
      "source": [
        "%matplotlib inline\n",
        "import matplotlib.pyplot as plt\n",
        " \n",
        "plt.plot(range(1, history.params['epochs']+1), history.history['acc'], label=\"Accuracy\")\n",
        "plt.xlabel('Epochs')\n",
        "plt.ylabel('Accuracy')\n",
        "plt.legend()\n",
        "plt.show()"
      ],
      "execution_count": 0,
      "outputs": [
        {
          "output_type": "display_data",
          "data": {
            "image/png": "[encoded data removed]",
            "text/plain": [
              "<Figure size 432x288 with 1 Axes>"
            ]
          },
          "metadata": {
            "tags": []
          }
        }
      ]
    },
    {
      "cell_type": "code",
      "metadata": {
        "id": "OnNkkVD4RNWs",
        "colab_type": "code",
        "outputId": "c68aa92b-ab68-4903-f948-101520e09a5f",
        "colab": {
          "base_uri": "https://localhost:8080/",
          "height": 279
        }
      },
      "source": [
        "%matplotlib inline\n",
        "import matplotlib.pyplot as plt\n",
        " \n",
        "plt.plot(range(1, history.params['epochs']+1), history.history['acc'], label=\"Accuracy\")\n",
        "plt.xlabel('Epochs')\n",
        "plt.ylabel('????????')\n",
        "plt.legend()\n",
        "plt.show()"
      ],
      "execution_count": 0,
      "outputs": [
        {
          "output_type": "display_data",
          "data": {
            "image/png": "[encoded data removed]",
            "text/plain": [
              "<Figure size 432x288 with 1 Axes>"
            ]
          },
          "metadata": {
            "tags": []
          }
        }
      ]
    },
    {
      "cell_type": "code",
      "metadata": {
        "id": "d3nVvavrTo6c",
        "colab_type": "code",
        "outputId": "2353e75b-cc8c-4f99-d6bd-e003df163153",
        "colab": {
          "base_uri": "https://localhost:8080/",
          "height": 136
        }
      },
      "source": [
        "history.params"
      ],
      "execution_count": 0,
      "outputs": [
        {
          "output_type": "execute_result",
          "data": {
            "text/plain": [
              "{'batch_size': 32,\n",
              " 'do_validation': False,\n",
              " 'epochs': 100,\n",
              " 'metrics': ['loss', 'acc'],\n",
              " 'samples': 1000,\n",
              " 'steps': None,\n",
              " 'verbose': 1}"
            ]
          },
          "metadata": {
            "tags": []
          },
          "execution_count": 9
        }
      ]
    },
    {
      "cell_type": "code",
      "metadata": {
        "id": "GSVwJfYoTvAO",
        "colab_type": "code",
        "colab": {}
      },
      "source": [
        "from keras.datasets import mnist\n",
        "\n",
        "(x_train, y_train), (x_test, y_test) = mnist.load_data()"
      ],
      "execution_count": 0,
      "outputs": []
    },
    {
      "cell_type": "code",
      "metadata": {
        "id": "mReLfpVdafy5",
        "colab_type": "code",
        "outputId": "71691b56-468a-4dea-9b68-38d083f2dfdd",
        "colab": {
          "base_uri": "https://localhost:8080/",
          "height": 265
        }
      },
      "source": [
        "from keras.datasets import mnist\n",
        "import matplotlib.pyplot as plt\n",
        "\n",
        "(x_train, y_train), (x_test, y_test) = mnist.load_data()\n",
        "\n",
        "plt.imshow(x_train[2], cmap='gray')\n",
        "plt.show()"
      ],
      "execution_count": 0,
      "outputs": [
        {
          "output_type": "display_data",
          "data": {
            "image/png": "[encoded data removed]",
            "text/plain": [
              "<Figure size 432x288 with 1 Axes>"
            ]
          },
          "metadata": {
            "tags": []
          }
        }
      ]
    },
    {
      "cell_type": "code",
      "metadata": {
        "id": "M9kEezGpamsc",
        "colab_type": "code",
        "colab": {}
      },
      "source": [
        "from keras.models import Sequential\n",
        "from keras.layers import Dense, Dropout, Flatten\n",
        "from keras.layers import Conv2D, MaxPooling2D\n",
        "\n",
        "model = Sequential()\n",
        "model.add(Conv2D(32, kernel_size=(3, 3), activation='relu', input_shape=(28, 28, 1))) # input_shapeは 画像サイズに準ずる\n",
        "model.add(Conv2D(64, kernel_size=(3, 3), activation='relu'))\n",
        "model.add(MaxPooling2D(pool_size=(2, 2)))\n",
        "model.add(Dropout(0.25)) # 過学習を防ぐために、ノードからの伝搬を確率的に落とす\n",
        "model.add(Flatten())\n",
        "model.add(Dense(128, activation='relu'))\n",
        "model.add(Dropout(0.5)) # 過学習を防ぐために、ノードからの伝搬を確率的に落とす\n",
        "model.add(Dense(10, activation='softmax')) # 10次元ベクトル。各値は0〜1である"
      ],
      "execution_count": 0,
      "outputs": []
    },
    {
      "cell_type": "code",
      "metadata": {
        "id": "Ats29PNAbCba",
        "colab_type": "code",
        "outputId": "be2bebc6-75b1-446f-e99b-695291f275a3",
        "colab": {
          "base_uri": "https://localhost:8080/",
          "height": 425
        }
      },
      "source": [
        "model.summary()"
      ],
      "execution_count": 0,
      "outputs": [
        {
          "output_type": "stream",
          "text": [
            "Model: \"sequential_4\"\n",
            "_________________________________________________________________\n",
            "Layer (type)                 Output Shape              Param #   \n",
            "=================================================================\n",
            "conv2d_5 (Conv2D)            (None, 26, 26, 32)        320       \n",
            "_________________________________________________________________\n",
            "conv2d_6 (Conv2D)            (None, 24, 24, 64)        18496     \n",
            "_________________________________________________________________\n",
            "max_pooling2d_3 (MaxPooling2 (None, 12, 12, 64)        0         \n",
            "_________________________________________________________________\n",
            "dropout_5 (Dropout)          (None, 12, 12, 64)        0         \n",
            "_________________________________________________________________\n",
            "flatten_3 (Flatten)          (None, 9216)              0         \n",
            "_________________________________________________________________\n",
            "dense_7 (Dense)              (None, 128)               1179776   \n",
            "_________________________________________________________________\n",
            "dropout_6 (Dropout)          (None, 128)               0         \n",
            "_________________________________________________________________\n",
            "dense_8 (Dense)              (None, 10)                1290      \n",
            "=================================================================\n",
            "Total params: 1,199,882\n",
            "Trainable params: 1,199,882\n",
            "Non-trainable params: 0\n",
            "_________________________________________________________________\n"
          ],
          "name": "stdout"
        }
      ]
    },
    {
      "cell_type": "markdown",
      "metadata": {
        "id": "CpMhG4CtbbCL",
        "colab_type": "text"
      },
      "source": [
        ""
      ]
    },
    {
      "cell_type": "markdown",
      "metadata": {
        "id": "LheMzWw-cG_U",
        "colab_type": "text"
      },
      "source": [
        "Total params: 1,199,882  \n",
        "このモデルでは、短いコードで、パラメータがこのようになっている  \n",
        "Trainable params: 1,199,882  \n",
        "Non-trainable params: 0"
      ]
    },
    {
      "cell_type": "code",
      "metadata": {
        "id": "tTrJi0IobIfi",
        "colab_type": "code",
        "outputId": "7ea4ff2a-203a-48b0-fa01-782ed1f567f0",
        "colab": {
          "base_uri": "https://localhost:8080/",
          "height": 547
        }
      },
      "source": [
        "import keras\n",
        "from keras.datasets import mnist\n",
        "from keras.models import Sequential\n",
        "from keras.layers import Dense, Dropout, Flatten\n",
        "from keras.layers import Conv2D, MaxPooling2D\n",
        "from keras import backend as K\n",
        "\n",
        "batch_size = 128\n",
        "num_classes = 10\n",
        "epochs = 12\n",
        "\n",
        "img_rows, img_cols = 28, 28\n",
        "\n",
        "# 学習用とテスト用に分離する\n",
        "(x_train, y_train), (x_test, y_test) = mnist.load_data()\n",
        "\n",
        "# n, height, width, 1 の形式に変換\n",
        "x_train = x_train.reshape(x_train.shape[0], img_rows, img_cols, 1)\n",
        "x_test = x_test.reshape(x_test.shape[0], img_rows, img_cols, 1)\n",
        "input_shape = (img_rows, img_cols, 1)\n",
        "\n",
        "# 学習を安定させるために最小値0, 最大値1に正規化\n",
        "x_train = x_train.astype('float32')\n",
        "x_test = x_test.astype('float32')\n",
        "x_train /= 255\n",
        "x_test /= 255\n",
        "print('x_train shape:', x_train.shape)\n",
        "print(x_train.shape[0], 'train samples')\n",
        "print(x_test.shape[0], 'test samples')\n",
        "\n",
        "# one hotベクトルへの変換\n",
        "# ベクトルのうち、1つだけが1でほかが0であるようなベクトルのこと。今回はsoftmaxを使うため。\n",
        "# see: https://qiita.com/JeJeNeNo/items/8a7c1781f6a6ad522adf\n",
        "y_train = keras.utils.to_categorical(y_train, num_classes)\n",
        "y_test = keras.utils.to_categorical(y_test, num_classes)\n",
        "\n",
        "model = Sequential()\n",
        "model.add(Conv2D(32, kernel_size=(3, 3),\n",
        "                 activation='relu',\n",
        "                 input_shape=input_shape))\n",
        "model.add(Conv2D(64, (3, 3), activation='relu'))\n",
        "model.add(MaxPooling2D(pool_size=(2, 2)))\n",
        "model.add(Dropout(0.25))\n",
        "model.add(Flatten())\n",
        "model.add(Dense(128, activation='relu'))\n",
        "model.add(Dropout(0.5))\n",
        "model.add(Dense(num_classes, activation='softmax'))\n",
        "\n",
        "model.compile(loss=keras.losses.categorical_crossentropy,\n",
        "              optimizer=keras.optimizers.Adadelta(),\n",
        "              metrics=['accuracy'])\n",
        "\n",
        "# テスト用のデータでモデルの正確度を確かめる\n",
        "model.fit(x_train, y_train,\n",
        "          batch_size=batch_size,\n",
        "          epochs=epochs,\n",
        "          verbose=1,\n",
        "          validation_data=(x_test, y_test))\n",
        "score = model.evaluate(x_test, y_test, verbose=0)\n",
        "print('Test loss:', score[0])\n",
        "print('Test accuracy:', score[1]) # 99%超え"
      ],
      "execution_count": 0,
      "outputs": [
        {
          "output_type": "stream",
          "text": [
            "x_train shape: (60000, 28, 28, 1)\n",
            "60000 train samples\n",
            "10000 test samples\n",
            "Train on 60000 samples, validate on 10000 samples\n",
            "Epoch 1/12\n",
            "60000/60000 [==============================] - 5s 82us/step - loss: 0.2671 - acc: 0.9177 - val_loss: 0.0536 - val_acc: 0.9830\n",
            "Epoch 2/12\n",
            "60000/60000 [==============================] - 4s 73us/step - loss: 0.0868 - acc: 0.9741 - val_loss: 0.0425 - val_acc: 0.9856\n",
            "Epoch 3/12\n",
            "60000/60000 [==============================] - 4s 72us/step - loss: 0.0671 - acc: 0.9798 - val_loss: 0.0330 - val_acc: 0.9892\n",
            "Epoch 4/12\n",
            "60000/60000 [==============================] - 4s 74us/step - loss: 0.0546 - acc: 0.9839 - val_loss: 0.0322 - val_acc: 0.9891\n",
            "Epoch 5/12\n",
            "60000/60000 [==============================] - 4s 73us/step - loss: 0.0476 - acc: 0.9857 - val_loss: 0.0301 - val_acc: 0.9891\n",
            "Epoch 6/12\n",
            "60000/60000 [==============================] - 4s 73us/step - loss: 0.0419 - acc: 0.9875 - val_loss: 0.0268 - val_acc: 0.9912\n",
            "Epoch 7/12\n",
            "60000/60000 [==============================] - 4s 72us/step - loss: 0.0379 - acc: 0.9886 - val_loss: 0.0260 - val_acc: 0.9916\n",
            "Epoch 8/12\n",
            "60000/60000 [==============================] - 4s 72us/step - loss: 0.0334 - acc: 0.9899 - val_loss: 0.0274 - val_acc: 0.9912\n",
            "Epoch 9/12\n",
            "60000/60000 [==============================] - 4s 72us/step - loss: 0.0319 - acc: 0.9904 - val_loss: 0.0276 - val_acc: 0.9912\n",
            "Epoch 10/12\n",
            "60000/60000 [==============================] - 4s 73us/step - loss: 0.0302 - acc: 0.9903 - val_loss: 0.0258 - val_acc: 0.9921\n",
            "Epoch 11/12\n",
            "60000/60000 [==============================] - 4s 72us/step - loss: 0.0291 - acc: 0.9913 - val_loss: 0.0268 - val_acc: 0.9911\n",
            "Epoch 12/12\n",
            "60000/60000 [==============================] - 4s 73us/step - loss: 0.0256 - acc: 0.9919 - val_loss: 0.0270 - val_acc: 0.9917\n",
            "Test loss: 0.027011475850874194\n",
            "Test accuracy: 0.9917\n"
          ],
          "name": "stdout"
        }
      ]
    },
    {
      "cell_type": "markdown",
      "metadata": {
        "id": "HDtKnl30cDj4",
        "colab_type": "text"
      },
      "source": [
        ""
      ]
    },
    {
      "cell_type": "code",
      "metadata": {
        "id": "6DGXfZtjb9gA",
        "colab_type": "code",
        "outputId": "5f4d0523-96ec-4ce6-b147-f4e97bc82638",
        "colab": {
          "base_uri": "https://localhost:8080/",
          "height": 547
        }
      },
      "source": [
        "import keras\n",
        "from keras.datasets import mnist\n",
        "from keras.models import Sequential\n",
        "from keras.layers import Dense, Dropout, Flatten\n",
        "from keras.layers import Conv2D, MaxPooling2D\n",
        "from keras import backend as K\n",
        "\n",
        "batch_size = 128\n",
        "num_classes = 10\n",
        "epochs = 12\n",
        "\n",
        "img_rows, img_cols = 28, 28\n",
        "\n",
        "# 学習用とテスト用に分離する\n",
        "(x_train, y_train), (x_test, y_test) = mnist.load_data()\n",
        "\n",
        "# n, height, width, 1 の形式に変換\n",
        "x_train = x_train.reshape(x_train.shape[0], img_rows, img_cols, 1)\n",
        "x_test = x_test.reshape(x_test.shape[0], img_rows, img_cols, 1)\n",
        "input_shape = (img_rows, img_cols, 1)\n",
        "\n",
        "# 学習を安定させるために最小値0, 最大値1に正規化\n",
        "x_train = x_train.astype('float32')\n",
        "x_test = x_test.astype('float32')\n",
        "x_train /= 255\n",
        "x_test /= 255\n",
        "print('x_train shape:', x_train.shape)\n",
        "print(x_train.shape[0], 'train samples')\n",
        "print(x_test.shape[0], 'test samples')\n",
        "\n",
        "# one hotベクトルへの変換\n",
        "# ベクトルのうち、1つだけが1でほかが0であるようなベクトルのこと。今回はsoftmaxを使うため。\n",
        "# see: https://qiita.com/JeJeNeNo/items/8a7c1781f6a6ad522adf\n",
        "y_train = keras.utils.to_categorical(y_train, num_classes)\n",
        "y_test = keras.utils.to_categorical(y_test, num_classes)\n",
        "\n",
        "model = Sequential()\n",
        "model.add(Conv2D(32, kernel_size=(3, 3),\n",
        "                 activation='relu',\n",
        "                 input_shape=input_shape))\n",
        "model.add(Conv2D(64, (3, 3), activation='relu'))\n",
        "model.add(MaxPooling2D(pool_size=(2, 2)))\n",
        "model.add(Dropout(0.25))\n",
        "model.add(Flatten())\n",
        "model.add(Dense(128, activation='relu'))\n",
        "model.add(Dropout(0.5))\n",
        "model.add(Dense(num_classes, activation='softmax'))\n",
        "\n",
        "model.compile(loss=keras.losses.categorical_crossentropy,\n",
        "              optimizer=keras.optimizers.Adadelta(),\n",
        "              metrics=['accuracy'])\n",
        "\n",
        "# テスト用のデータでモデルの正確度を確かめる\n",
        "model.fit(x_train, y_train,\n",
        "          batch_size=batch_size,\n",
        "          epochs=epochs,\n",
        "          verbose=1,\n",
        "          validation_data=(x_test, y_test))\n",
        "score = model.evaluate(x_test, y_test, verbose=0)\n",
        "print('Test loss:', score[0])\n",
        "print('Test accuracy:', score[1]) # 99%超え"
      ],
      "execution_count": 0,
      "outputs": [
        {
          "output_type": "stream",
          "text": [
            "x_train shape: (60000, 28, 28, 1)\n",
            "60000 train samples\n",
            "10000 test samples\n",
            "Train on 60000 samples, validate on 10000 samples\n",
            "Epoch 1/12\n",
            "60000/60000 [==============================] - 5s 85us/step - loss: 0.2689 - acc: 0.9162 - val_loss: 0.0569 - val_acc: 0.9811\n",
            "Epoch 2/12\n",
            "60000/60000 [==============================] - 4s 72us/step - loss: 0.0894 - acc: 0.9739 - val_loss: 0.0443 - val_acc: 0.9839\n",
            "Epoch 3/12\n",
            "60000/60000 [==============================] - 4s 72us/step - loss: 0.0653 - acc: 0.9804 - val_loss: 0.0337 - val_acc: 0.9888\n",
            "Epoch 4/12\n",
            "60000/60000 [==============================] - 4s 73us/step - loss: 0.0549 - acc: 0.9833 - val_loss: 0.0335 - val_acc: 0.9878\n",
            "Epoch 5/12\n",
            "60000/60000 [==============================] - 4s 73us/step - loss: 0.0496 - acc: 0.9856 - val_loss: 0.0271 - val_acc: 0.9903\n",
            "Epoch 6/12\n",
            "60000/60000 [==============================] - 4s 73us/step - loss: 0.0423 - acc: 0.9876 - val_loss: 0.0267 - val_acc: 0.9915\n",
            "Epoch 7/12\n",
            "60000/60000 [==============================] - 4s 72us/step - loss: 0.0377 - acc: 0.9883 - val_loss: 0.0282 - val_acc: 0.9906\n",
            "Epoch 8/12\n",
            "60000/60000 [==============================] - 4s 72us/step - loss: 0.0354 - acc: 0.9890 - val_loss: 0.0255 - val_acc: 0.9915\n",
            "Epoch 9/12\n",
            "60000/60000 [==============================] - 4s 72us/step - loss: 0.0326 - acc: 0.9900 - val_loss: 0.0269 - val_acc: 0.9914\n",
            "Epoch 10/12\n",
            "60000/60000 [==============================] - 4s 72us/step - loss: 0.0294 - acc: 0.9911 - val_loss: 0.0248 - val_acc: 0.9915\n",
            "Epoch 11/12\n",
            "60000/60000 [==============================] - 4s 73us/step - loss: 0.0290 - acc: 0.9908 - val_loss: 0.0236 - val_acc: 0.9918\n",
            "Epoch 12/12\n",
            "60000/60000 [==============================] - 4s 73us/step - loss: 0.0258 - acc: 0.9917 - val_loss: 0.0271 - val_acc: 0.9911\n",
            "Test loss: 0.027096271363065444\n",
            "Test accuracy: 0.9911\n"
          ],
          "name": "stdout"
        }
      ]
    },
    {
      "cell_type": "code",
      "metadata": {
        "id": "XHGGSFCzd6Yw",
        "colab_type": "code",
        "outputId": "b7c83f06-e04f-46e4-a2d2-13a991b29b40",
        "colab": {
          "base_uri": "https://localhost:8080/",
          "height": 68
        }
      },
      "source": [
        "!curl 'https://placehold.jp/24/000000/ffffff/28x28.png?text=3' -o six.png"
      ],
      "execution_count": 0,
      "outputs": [
        {
          "output_type": "stream",
          "text": [
            "  % Total    % Received % Xferd  Average Speed   Time    Time     Time  Current\n",
            "                                 Dload  Upload   Total   Spent    Left  Speed\n",
            "\r  0     0    0     0    0     0      0      0 --:--:-- --:--:-- --:--:--     0\r100   432  100   432    0     0    677      0 --:--:-- --:--:-- --:--:--   677\n"
          ],
          "name": "stdout"
        }
      ]
    },
    {
      "cell_type": "code",
      "metadata": {
        "id": "NQljqe2neP-u",
        "colab_type": "code",
        "outputId": "8bf132be-7001-4f5c-cf88-91d7c1cc19b5",
        "colab": {
          "base_uri": "https://localhost:8080/",
          "height": 282
        }
      },
      "source": [
        "from matplotlib import image\n",
        "image = image.imread('six.png')\n",
        "plt.imshow(image, cmap='gray')"
      ],
      "execution_count": 0,
      "outputs": [
        {
          "output_type": "execute_result",
          "data": {
            "text/plain": [
              "<matplotlib.image.AxesImage at 0x7f0ec9be17f0>"
            ]
          },
          "metadata": {
            "tags": []
          },
          "execution_count": 30
        },
        {
          "output_type": "display_data",
          "data": {
            "image/png": "[encoded data removed]",
            "text/plain": [
              "<Figure size 432x288 with 1 Axes>"
            ]
          },
          "metadata": {
            "tags": []
          }
        }
      ]
    },
    {
      "cell_type": "code",
      "metadata": {
        "id": "EPsjQW66eSl8",
        "colab_type": "code",
        "outputId": "31b8bd02-79a1-4563-8e75-74099383a4a5",
        "colab": {
          "base_uri": "https://localhost:8080/",
          "height": 68
        }
      },
      "source": [
        "# 入力の形状は原則 (n, height, width, 1) になる\n",
        "images = image.reshape(1, img_rows, img_cols, 1)\n",
        "result = model.predict(images)\n",
        "result"
      ],
      "execution_count": 0,
      "outputs": [
        {
          "output_type": "execute_result",
          "data": {
            "text/plain": [
              "array([[1.4663973e-11, 3.2275755e-12, 7.3074777e-09, 9.9999976e-01,\n",
              "        6.8801839e-16, 2.0479439e-08, 1.3219524e-15, 1.0583370e-09,\n",
              "        5.6296177e-09, 2.4513616e-07]], dtype=float32)"
            ]
          },
          "metadata": {
            "tags": []
          },
          "execution_count": 31
        }
      ]
    },
    {
      "cell_type": "code",
      "metadata": {
        "id": "3Ll4QPWPfHtj",
        "colab_type": "code",
        "outputId": "5884e211-aa91-4f62-f2bc-3be43ff9d99a",
        "colab": {
          "base_uri": "https://localhost:8080/",
          "height": 34
        }
      },
      "source": [
        "import numpy as np\n",
        "np.argmax(result[0]) # 結論"
      ],
      "execution_count": 0,
      "outputs": [
        {
          "output_type": "execute_result",
          "data": {
            "text/plain": [
              "3"
            ]
          },
          "metadata": {
            "tags": []
          },
          "execution_count": 32
        }
      ]
    },
    {
      "cell_type": "code",
      "metadata": {
        "id": "AiG04IUSfMzj",
        "colab_type": "code",
        "colab": {}
      },
      "source": [
        ""
      ],
      "execution_count": 0,
      "outputs": []
    }
  ]
}